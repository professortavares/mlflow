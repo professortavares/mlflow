{
 "cells": [
  {
   "cell_type": "code",
   "execution_count": 1,
   "id": "3e263604",
   "metadata": {},
   "outputs": [],
   "source": [
    "import pandas as pd\n",
    "import numpy as np\n",
    "import itertools\n",
    "from tqdm import tqdm\n",
    "\n",
    "# Import sklearn\n",
    "from sklearn.compose import ColumnTransformer\n",
    "from sklearn.model_selection import train_test_split\n",
    "from sklearn.impute import SimpleImputer\n",
    "from sklearn.pipeline import Pipeline\n",
    "from sklearn.preprocessing import (StandardScaler, \n",
    "                                   OneHotEncoder)\n",
    "from sklearn.model_selection import ParameterGrid\n",
    "from sklearn.metrics import (accuracy_score,\n",
    "                             f1_score,\n",
    "                             precision_score,\n",
    "                             recall_score,\n",
    "                             roc_auc_score)\n",
    "from sklearn.neighbors import KNeighborsClassifier\n",
    "from sklearn.ensemble import RandomForestClassifier\n",
    "\n",
    "# Import mlflow\n",
    "from mlflow import (\n",
    "    log_metric, \n",
    "    log_param,\n",
    "    log_figure,\n",
    "    set_experiment, \n",
    "    set_tags,\n",
    "    start_run,\n",
    "    end_run,\n",
    "    set_tracking_uri)\n",
    "\n",
    "from mlflow.sklearn import log_model"
   ]
  },
  {
   "cell_type": "code",
   "execution_count": null,
   "id": "c59ec119",
   "metadata": {},
   "outputs": [],
   "source": [
    "#set_tracking_uri('sqlite:///mlflow.db')"
   ]
  },
  {
   "cell_type": "markdown",
   "id": "01fcc70b",
   "metadata": {},
   "source": [
    "# Importing the database"
   ]
  },
  {
   "cell_type": "code",
   "execution_count": 2,
   "id": "9c28e0fa",
   "metadata": {},
   "outputs": [
    {
     "name": "stdout",
     "output_type": "stream",
     "text": [
      "(891, 12)\n"
     ]
    },
    {
     "data": {
      "text/html": [
       "<div>\n",
       "<style scoped>\n",
       "    .dataframe tbody tr th:only-of-type {\n",
       "        vertical-align: middle;\n",
       "    }\n",
       "\n",
       "    .dataframe tbody tr th {\n",
       "        vertical-align: top;\n",
       "    }\n",
       "\n",
       "    .dataframe thead th {\n",
       "        text-align: right;\n",
       "    }\n",
       "</style>\n",
       "<table border=\"1\" class=\"dataframe\">\n",
       "  <thead>\n",
       "    <tr style=\"text-align: right;\">\n",
       "      <th></th>\n",
       "      <th>PassengerId</th>\n",
       "      <th>Survived</th>\n",
       "      <th>Pclass</th>\n",
       "      <th>Name</th>\n",
       "      <th>Sex</th>\n",
       "      <th>Age</th>\n",
       "      <th>SibSp</th>\n",
       "      <th>Parch</th>\n",
       "      <th>Ticket</th>\n",
       "      <th>Fare</th>\n",
       "      <th>Cabin</th>\n",
       "      <th>Embarked</th>\n",
       "    </tr>\n",
       "  </thead>\n",
       "  <tbody>\n",
       "    <tr>\n",
       "      <th>0</th>\n",
       "      <td>1</td>\n",
       "      <td>0</td>\n",
       "      <td>3</td>\n",
       "      <td>Braund, Mr. Owen Harris</td>\n",
       "      <td>male</td>\n",
       "      <td>22.0</td>\n",
       "      <td>1</td>\n",
       "      <td>0</td>\n",
       "      <td>A/5 21171</td>\n",
       "      <td>7.2500</td>\n",
       "      <td>NaN</td>\n",
       "      <td>S</td>\n",
       "    </tr>\n",
       "    <tr>\n",
       "      <th>1</th>\n",
       "      <td>2</td>\n",
       "      <td>1</td>\n",
       "      <td>1</td>\n",
       "      <td>Cumings, Mrs. John Bradley (Florence Briggs Th...</td>\n",
       "      <td>female</td>\n",
       "      <td>38.0</td>\n",
       "      <td>1</td>\n",
       "      <td>0</td>\n",
       "      <td>PC 17599</td>\n",
       "      <td>71.2833</td>\n",
       "      <td>C85</td>\n",
       "      <td>C</td>\n",
       "    </tr>\n",
       "    <tr>\n",
       "      <th>2</th>\n",
       "      <td>3</td>\n",
       "      <td>1</td>\n",
       "      <td>3</td>\n",
       "      <td>Heikkinen, Miss. Laina</td>\n",
       "      <td>female</td>\n",
       "      <td>26.0</td>\n",
       "      <td>0</td>\n",
       "      <td>0</td>\n",
       "      <td>STON/O2. 3101282</td>\n",
       "      <td>7.9250</td>\n",
       "      <td>NaN</td>\n",
       "      <td>S</td>\n",
       "    </tr>\n",
       "    <tr>\n",
       "      <th>3</th>\n",
       "      <td>4</td>\n",
       "      <td>1</td>\n",
       "      <td>1</td>\n",
       "      <td>Futrelle, Mrs. Jacques Heath (Lily May Peel)</td>\n",
       "      <td>female</td>\n",
       "      <td>35.0</td>\n",
       "      <td>1</td>\n",
       "      <td>0</td>\n",
       "      <td>113803</td>\n",
       "      <td>53.1000</td>\n",
       "      <td>C123</td>\n",
       "      <td>S</td>\n",
       "    </tr>\n",
       "    <tr>\n",
       "      <th>4</th>\n",
       "      <td>5</td>\n",
       "      <td>0</td>\n",
       "      <td>3</td>\n",
       "      <td>Allen, Mr. William Henry</td>\n",
       "      <td>male</td>\n",
       "      <td>35.0</td>\n",
       "      <td>0</td>\n",
       "      <td>0</td>\n",
       "      <td>373450</td>\n",
       "      <td>8.0500</td>\n",
       "      <td>NaN</td>\n",
       "      <td>S</td>\n",
       "    </tr>\n",
       "  </tbody>\n",
       "</table>\n",
       "</div>"
      ],
      "text/plain": [
       "   PassengerId  Survived  Pclass  \\\n",
       "0            1         0       3   \n",
       "1            2         1       1   \n",
       "2            3         1       3   \n",
       "3            4         1       1   \n",
       "4            5         0       3   \n",
       "\n",
       "                                                Name     Sex   Age  SibSp  \\\n",
       "0                            Braund, Mr. Owen Harris    male  22.0      1   \n",
       "1  Cumings, Mrs. John Bradley (Florence Briggs Th...  female  38.0      1   \n",
       "2                             Heikkinen, Miss. Laina  female  26.0      0   \n",
       "3       Futrelle, Mrs. Jacques Heath (Lily May Peel)  female  35.0      1   \n",
       "4                           Allen, Mr. William Henry    male  35.0      0   \n",
       "\n",
       "   Parch            Ticket     Fare Cabin Embarked  \n",
       "0      0         A/5 21171   7.2500   NaN        S  \n",
       "1      0          PC 17599  71.2833   C85        C  \n",
       "2      0  STON/O2. 3101282   7.9250   NaN        S  \n",
       "3      0            113803  53.1000  C123        S  \n",
       "4      0            373450   8.0500   NaN        S  "
      ]
     },
     "execution_count": 2,
     "metadata": {},
     "output_type": "execute_result"
    }
   ],
   "source": [
    "train = pd.read_csv('./train.csv')\n",
    "print(train.shape)\n",
    "train.head()"
   ]
  },
  {
   "cell_type": "markdown",
   "id": "558d656e",
   "metadata": {},
   "source": [
    "## Creating the training and testing pipeline"
   ]
  },
  {
   "cell_type": "code",
   "execution_count": 3,
   "id": "86912606",
   "metadata": {},
   "outputs": [
    {
     "name": "stdout",
     "output_type": "stream",
     "text": [
      "X_train shape: (623, 5)\n",
      "y_train shape: (623,)\n",
      "##############################\n",
      "X_test shape: (268, 5)\n",
      "y_test shape: (268,)\n"
     ]
    }
   ],
   "source": [
    "X = train.drop(columns=['Survived'])\n",
    "y = train['Survived']\n",
    "\n",
    "cols = ['Pclass', 'Sex', 'Age', 'Fare', 'Embarked']\n",
    "X = X[cols]\n",
    "\n",
    "\n",
    "X_train, X_test, y_train, y_test = train_test_split(X, y, test_size=0.3, random_state=42, stratify=y)\n",
    "\n",
    "print(f\"X_train shape: {X_train.shape}\")\n",
    "print(f\"y_train shape: {y_train.shape}\")\n",
    "print(\"#\"*30)\n",
    "print(f\"X_test shape: {X_test.shape}\")\n",
    "print(f\"y_test shape: {y_test.shape}\")"
   ]
  },
  {
   "cell_type": "code",
   "execution_count": 4,
   "id": "e82225ec",
   "metadata": {},
   "outputs": [
    {
     "data": {
      "text/html": [
       "<style>#sk-container-id-1 {color: black;background-color: white;}#sk-container-id-1 pre{padding: 0;}#sk-container-id-1 div.sk-toggleable {background-color: white;}#sk-container-id-1 label.sk-toggleable__label {cursor: pointer;display: block;width: 100%;margin-bottom: 0;padding: 0.3em;box-sizing: border-box;text-align: center;}#sk-container-id-1 label.sk-toggleable__label-arrow:before {content: \"▸\";float: left;margin-right: 0.25em;color: #696969;}#sk-container-id-1 label.sk-toggleable__label-arrow:hover:before {color: black;}#sk-container-id-1 div.sk-estimator:hover label.sk-toggleable__label-arrow:before {color: black;}#sk-container-id-1 div.sk-toggleable__content {max-height: 0;max-width: 0;overflow: hidden;text-align: left;background-color: #f0f8ff;}#sk-container-id-1 div.sk-toggleable__content pre {margin: 0.2em;color: black;border-radius: 0.25em;background-color: #f0f8ff;}#sk-container-id-1 input.sk-toggleable__control:checked~div.sk-toggleable__content {max-height: 200px;max-width: 100%;overflow: auto;}#sk-container-id-1 input.sk-toggleable__control:checked~label.sk-toggleable__label-arrow:before {content: \"▾\";}#sk-container-id-1 div.sk-estimator input.sk-toggleable__control:checked~label.sk-toggleable__label {background-color: #d4ebff;}#sk-container-id-1 div.sk-label input.sk-toggleable__control:checked~label.sk-toggleable__label {background-color: #d4ebff;}#sk-container-id-1 input.sk-hidden--visually {border: 0;clip: rect(1px 1px 1px 1px);clip: rect(1px, 1px, 1px, 1px);height: 1px;margin: -1px;overflow: hidden;padding: 0;position: absolute;width: 1px;}#sk-container-id-1 div.sk-estimator {font-family: monospace;background-color: #f0f8ff;border: 1px dotted black;border-radius: 0.25em;box-sizing: border-box;margin-bottom: 0.5em;}#sk-container-id-1 div.sk-estimator:hover {background-color: #d4ebff;}#sk-container-id-1 div.sk-parallel-item::after {content: \"\";width: 100%;border-bottom: 1px solid gray;flex-grow: 1;}#sk-container-id-1 div.sk-label:hover label.sk-toggleable__label {background-color: #d4ebff;}#sk-container-id-1 div.sk-serial::before {content: \"\";position: absolute;border-left: 1px solid gray;box-sizing: border-box;top: 0;bottom: 0;left: 50%;z-index: 0;}#sk-container-id-1 div.sk-serial {display: flex;flex-direction: column;align-items: center;background-color: white;padding-right: 0.2em;padding-left: 0.2em;position: relative;}#sk-container-id-1 div.sk-item {position: relative;z-index: 1;}#sk-container-id-1 div.sk-parallel {display: flex;align-items: stretch;justify-content: center;background-color: white;position: relative;}#sk-container-id-1 div.sk-item::before, #sk-container-id-1 div.sk-parallel-item::before {content: \"\";position: absolute;border-left: 1px solid gray;box-sizing: border-box;top: 0;bottom: 0;left: 50%;z-index: -1;}#sk-container-id-1 div.sk-parallel-item {display: flex;flex-direction: column;z-index: 1;position: relative;background-color: white;}#sk-container-id-1 div.sk-parallel-item:first-child::after {align-self: flex-end;width: 50%;}#sk-container-id-1 div.sk-parallel-item:last-child::after {align-self: flex-start;width: 50%;}#sk-container-id-1 div.sk-parallel-item:only-child::after {width: 0;}#sk-container-id-1 div.sk-dashed-wrapped {border: 1px dashed gray;margin: 0 0.4em 0.5em 0.4em;box-sizing: border-box;padding-bottom: 0.4em;background-color: white;}#sk-container-id-1 div.sk-label label {font-family: monospace;font-weight: bold;display: inline-block;line-height: 1.2em;}#sk-container-id-1 div.sk-label-container {text-align: center;}#sk-container-id-1 div.sk-container {/* jupyter's `normalize.less` sets `[hidden] { display: none; }` but bootstrap.min.css set `[hidden] { display: none !important; }` so we also need the `!important` here to be able to override the default hidden behavior on the sphinx rendered scikit-learn.org. See: https://github.com/scikit-learn/scikit-learn/issues/21755 */display: inline-block !important;position: relative;}#sk-container-id-1 div.sk-text-repr-fallback {display: none;}</style><div id=\"sk-container-id-1\" class=\"sk-top-container\"><div class=\"sk-text-repr-fallback\"><pre>ColumnTransformer(transformers=[(&#x27;num&#x27;,\n",
       "                                 Pipeline(steps=[(&#x27;imputer&#x27;, SimpleImputer()),\n",
       "                                                 (&#x27;scaler&#x27;, StandardScaler())]),\n",
       "                                 [&#x27;Age&#x27;, &#x27;Fare&#x27;]),\n",
       "                                (&#x27;cat&#x27;,\n",
       "                                 Pipeline(steps=[(&#x27;imputer&#x27;,\n",
       "                                                  SimpleImputer(strategy=&#x27;most_frequent&#x27;)),\n",
       "                                                 (&#x27;ohe&#x27;,\n",
       "                                                  OneHotEncoder(drop=&#x27;first&#x27;,\n",
       "                                                                handle_unknown=&#x27;ignore&#x27;))]),\n",
       "                                 [&#x27;Pclass&#x27;, &#x27;Sex&#x27;, &#x27;Embarked&#x27;])])</pre><b>In a Jupyter environment, please rerun this cell to show the HTML representation or trust the notebook. <br />On GitHub, the HTML representation is unable to render, please try loading this page with nbviewer.org.</b></div><div class=\"sk-container\" hidden><div class=\"sk-item sk-dashed-wrapped\"><div class=\"sk-label-container\"><div class=\"sk-label sk-toggleable\"><input class=\"sk-toggleable__control sk-hidden--visually\" id=\"sk-estimator-id-1\" type=\"checkbox\" ><label for=\"sk-estimator-id-1\" class=\"sk-toggleable__label sk-toggleable__label-arrow\">ColumnTransformer</label><div class=\"sk-toggleable__content\"><pre>ColumnTransformer(transformers=[(&#x27;num&#x27;,\n",
       "                                 Pipeline(steps=[(&#x27;imputer&#x27;, SimpleImputer()),\n",
       "                                                 (&#x27;scaler&#x27;, StandardScaler())]),\n",
       "                                 [&#x27;Age&#x27;, &#x27;Fare&#x27;]),\n",
       "                                (&#x27;cat&#x27;,\n",
       "                                 Pipeline(steps=[(&#x27;imputer&#x27;,\n",
       "                                                  SimpleImputer(strategy=&#x27;most_frequent&#x27;)),\n",
       "                                                 (&#x27;ohe&#x27;,\n",
       "                                                  OneHotEncoder(drop=&#x27;first&#x27;,\n",
       "                                                                handle_unknown=&#x27;ignore&#x27;))]),\n",
       "                                 [&#x27;Pclass&#x27;, &#x27;Sex&#x27;, &#x27;Embarked&#x27;])])</pre></div></div></div><div class=\"sk-parallel\"><div class=\"sk-parallel-item\"><div class=\"sk-item\"><div class=\"sk-label-container\"><div class=\"sk-label sk-toggleable\"><input class=\"sk-toggleable__control sk-hidden--visually\" id=\"sk-estimator-id-2\" type=\"checkbox\" ><label for=\"sk-estimator-id-2\" class=\"sk-toggleable__label sk-toggleable__label-arrow\">num</label><div class=\"sk-toggleable__content\"><pre>[&#x27;Age&#x27;, &#x27;Fare&#x27;]</pre></div></div></div><div class=\"sk-serial\"><div class=\"sk-item\"><div class=\"sk-serial\"><div class=\"sk-item\"><div class=\"sk-estimator sk-toggleable\"><input class=\"sk-toggleable__control sk-hidden--visually\" id=\"sk-estimator-id-3\" type=\"checkbox\" ><label for=\"sk-estimator-id-3\" class=\"sk-toggleable__label sk-toggleable__label-arrow\">SimpleImputer</label><div class=\"sk-toggleable__content\"><pre>SimpleImputer()</pre></div></div></div><div class=\"sk-item\"><div class=\"sk-estimator sk-toggleable\"><input class=\"sk-toggleable__control sk-hidden--visually\" id=\"sk-estimator-id-4\" type=\"checkbox\" ><label for=\"sk-estimator-id-4\" class=\"sk-toggleable__label sk-toggleable__label-arrow\">StandardScaler</label><div class=\"sk-toggleable__content\"><pre>StandardScaler()</pre></div></div></div></div></div></div></div></div><div class=\"sk-parallel-item\"><div class=\"sk-item\"><div class=\"sk-label-container\"><div class=\"sk-label sk-toggleable\"><input class=\"sk-toggleable__control sk-hidden--visually\" id=\"sk-estimator-id-5\" type=\"checkbox\" ><label for=\"sk-estimator-id-5\" class=\"sk-toggleable__label sk-toggleable__label-arrow\">cat</label><div class=\"sk-toggleable__content\"><pre>[&#x27;Pclass&#x27;, &#x27;Sex&#x27;, &#x27;Embarked&#x27;]</pre></div></div></div><div class=\"sk-serial\"><div class=\"sk-item\"><div class=\"sk-serial\"><div class=\"sk-item\"><div class=\"sk-estimator sk-toggleable\"><input class=\"sk-toggleable__control sk-hidden--visually\" id=\"sk-estimator-id-6\" type=\"checkbox\" ><label for=\"sk-estimator-id-6\" class=\"sk-toggleable__label sk-toggleable__label-arrow\">SimpleImputer</label><div class=\"sk-toggleable__content\"><pre>SimpleImputer(strategy=&#x27;most_frequent&#x27;)</pre></div></div></div><div class=\"sk-item\"><div class=\"sk-estimator sk-toggleable\"><input class=\"sk-toggleable__control sk-hidden--visually\" id=\"sk-estimator-id-7\" type=\"checkbox\" ><label for=\"sk-estimator-id-7\" class=\"sk-toggleable__label sk-toggleable__label-arrow\">OneHotEncoder</label><div class=\"sk-toggleable__content\"><pre>OneHotEncoder(drop=&#x27;first&#x27;, handle_unknown=&#x27;ignore&#x27;)</pre></div></div></div></div></div></div></div></div></div></div></div></div>"
      ],
      "text/plain": [
       "ColumnTransformer(transformers=[('num',\n",
       "                                 Pipeline(steps=[('imputer', SimpleImputer()),\n",
       "                                                 ('scaler', StandardScaler())]),\n",
       "                                 ['Age', 'Fare']),\n",
       "                                ('cat',\n",
       "                                 Pipeline(steps=[('imputer',\n",
       "                                                  SimpleImputer(strategy='most_frequent')),\n",
       "                                                 ('ohe',\n",
       "                                                  OneHotEncoder(drop='first',\n",
       "                                                                handle_unknown='ignore'))]),\n",
       "                                 ['Pclass', 'Sex', 'Embarked'])])"
      ]
     },
     "execution_count": 4,
     "metadata": {},
     "output_type": "execute_result"
    }
   ],
   "source": [
    "num_vars = ['Age', 'Fare']\n",
    "numeric_transformer = Pipeline(\n",
    "    steps=[(\"imputer\", SimpleImputer(strategy='mean')), \n",
    "           (\"scaler\", StandardScaler())]\n",
    ")\n",
    "\n",
    "cat_vars = ['Pclass', 'Sex', 'Embarked']\n",
    "categorical_transformer = Pipeline(\n",
    "    steps=[(\"imputer\", SimpleImputer(strategy='most_frequent')),\n",
    "           (\"ohe\", OneHotEncoder(handle_unknown=\"ignore\", drop='first'))])\n",
    "    \n",
    "preprocessor = ColumnTransformer(\n",
    "    transformers=[\n",
    "        (\"num\", numeric_transformer, num_vars),\n",
    "        (\"cat\", categorical_transformer, cat_vars)\n",
    "    ]\n",
    ")\n",
    "preprocessor"
   ]
  },
  {
   "cell_type": "markdown",
   "id": "1edbb2a6",
   "metadata": {},
   "source": [
    "## Here I will build an altered version of grid_search, at each iteration it will record the result in mlflow (and later it can be used for comparison)\n",
    "\n",
    "\n",
    "ref.: https://mlflow.org/docs/1.8.0/index.html"
   ]
  },
  {
   "cell_type": "code",
   "execution_count": 5,
   "id": "85e98d4b",
   "metadata": {},
   "outputs": [],
   "source": [
    "def metrics(y_true, y_pred, y_proba):\n",
    "    acc = accuracy_score(y_true, y_pred)\n",
    "    f1 = f1_score(y_true, y_pred)\n",
    "    precision = precision_score(y_true, y_pred)\n",
    "    recall = recall_score(y_true, y_pred)\n",
    "    roc_auc = roc_auc_score(y_true, y_proba[:, 1])\n",
    "    return acc, f1, precision, recall, roc_auc"
   ]
  },
  {
   "cell_type": "code",
   "execution_count": 6,
   "id": "fb425172",
   "metadata": {},
   "outputs": [],
   "source": [
    "def register_mlflow(exp_name,\n",
    "                    pipe,\n",
    "                    hyperparams,\n",
    "                    y_test, \n",
    "                    y_pred, \n",
    "                    y_proba):\n",
    "    \n",
    "    with start_run(run_name=exp_name):    \n",
    "    \n",
    "        # get metrics\n",
    "        acc, f1, precision, recall, roc_auc = metrics(y_test, y_pred, y_proba)\n",
    "\n",
    "        #############################################\n",
    "        # log the result in mlflow\n",
    "\n",
    "        # params\n",
    "        for p in hyperparams:\n",
    "            log_param(p, hyperparams[p])\n",
    "\n",
    "        # metrics\n",
    "        log_metric(\"acc\", acc)\n",
    "        log_metric(\"f1\", f1)\n",
    "        log_metric(\"precision\", precision)        \n",
    "        log_metric(\"recall\", recall)        \n",
    "        log_metric(\"roc_auc\", roc_auc)        \n",
    "        \n",
    "        # model\n",
    "        log_model(pipe, \"model\")"
   ]
  },
  {
   "cell_type": "code",
   "execution_count": 7,
   "id": "67198884",
   "metadata": {},
   "outputs": [],
   "source": [
    "def mlflow_grid_search(exp_name,\n",
    "                     preprocessor,\n",
    "                     clf, \n",
    "                     X_train, \n",
    "                     y_train, \n",
    "                     X_test, \n",
    "                     y_test, \n",
    "                     param_grid, \n",
    "                     fixed_hyperparams={}):\n",
    "\n",
    "\n",
    "    set_experiment(exp_name)\n",
    "    list_param = list(ParameterGrid(param_grid))\n",
    "    for hyperparams in tqdm(list_param):\n",
    "        c = clf(**hyperparams, **fixed_hyperparams)\n",
    "\n",
    "        # build pipeline\n",
    "        pipe = Pipeline([('preprocessor', preprocessor), \n",
    "                         ('clf', c)])\n",
    "\n",
    "        pipe.fit(X_train, y_train)\n",
    "        y_pred = pipe.predict(X_test)        \n",
    "        y_proba = pipe.predict_proba(X_test)\n",
    "        \n",
    "        # register in MLFLOW\n",
    "        register_mlflow(exp_name,\n",
    "                    pipe,\n",
    "                    hyperparams,\n",
    "                    y_test, \n",
    "                    y_pred, \n",
    "                    y_proba)"
   ]
  },
  {
   "cell_type": "markdown",
   "id": "bb0d2b5a",
   "metadata": {},
   "source": [
    "### Using KNN"
   ]
  },
  {
   "cell_type": "code",
   "execution_count": 8,
   "id": "9bf09226",
   "metadata": {},
   "outputs": [
    {
     "data": {
      "text/plain": [
       "[{'n_neighbors': 3, 'p': 1, 'weights': 'uniform'},\n",
       " {'n_neighbors': 3, 'p': 1, 'weights': 'distance'},\n",
       " {'n_neighbors': 3, 'p': 2, 'weights': 'uniform'},\n",
       " {'n_neighbors': 3, 'p': 2, 'weights': 'distance'},\n",
       " {'n_neighbors': 5, 'p': 1, 'weights': 'uniform'}]"
      ]
     },
     "execution_count": 8,
     "metadata": {},
     "output_type": "execute_result"
    }
   ],
   "source": [
    "param_grid = {'n_neighbors': np.arange(3,21,2), \n",
    "              'weights': ['uniform', 'distance'],\n",
    "              'p': [1, 2]}\n",
    "\n",
    "fixed_hyperparams = {'n_jobs':-1}\n",
    "\n",
    "list_param = list(ParameterGrid(param_grid))\n",
    "# shows 5\n",
    "list_param[0:5]"
   ]
  },
  {
   "cell_type": "code",
   "execution_count": 9,
   "id": "7cf35828",
   "metadata": {
    "scrolled": false
   },
   "outputs": [
    {
     "name": "stderr",
     "output_type": "stream",
     "text": [
      "2022/11/04 08:22:27 INFO mlflow.tracking.fluent: Experiment with name 'KNN' does not exist. Creating a new experiment.\n",
      "  0%|                                                          | 0/36 [00:00<?, ?it/s]/home/tavares/Documentos/GitHub/mlflow/mlflow_env/lib/python3.9/site-packages/_distutils_hack/__init__.py:33: UserWarning: Setuptools is replacing distutils.\n",
      "  warnings.warn(\"Setuptools is replacing distutils.\")\n",
      "100%|█████████████████████████████████████████████████| 36/36 [01:18<00:00,  2.17s/it]\n"
     ]
    }
   ],
   "source": [
    "mlflow_grid_search(exp_name='KNN',\n",
    "                 preprocessor=preprocessor,\n",
    "                 clf=KNeighborsClassifier, \n",
    "                 X_train=X_train, \n",
    "                 y_train=y_train, \n",
    "                 X_test=X_test, \n",
    "                 y_test=y_test, \n",
    "                 param_grid=param_grid, \n",
    "                 fixed_hyperparams=fixed_hyperparams)"
   ]
  },
  {
   "cell_type": "markdown",
   "id": "367c70b3",
   "metadata": {},
   "source": [
    "### Using Random Forest"
   ]
  },
  {
   "cell_type": "code",
   "execution_count": 10,
   "id": "e709205b",
   "metadata": {},
   "outputs": [
    {
     "data": {
      "text/plain": [
       "[{'class_weight': 'balanced',\n",
       "  'criterion': 'gini',\n",
       "  'max_depth': 2,\n",
       "  'n_estimators': 2},\n",
       " {'class_weight': 'balanced',\n",
       "  'criterion': 'gini',\n",
       "  'max_depth': 2,\n",
       "  'n_estimators': 3},\n",
       " {'class_weight': 'balanced',\n",
       "  'criterion': 'gini',\n",
       "  'max_depth': 2,\n",
       "  'n_estimators': 4},\n",
       " {'class_weight': 'balanced',\n",
       "  'criterion': 'gini',\n",
       "  'max_depth': 3,\n",
       "  'n_estimators': 2},\n",
       " {'class_weight': 'balanced',\n",
       "  'criterion': 'gini',\n",
       "  'max_depth': 3,\n",
       "  'n_estimators': 3}]"
      ]
     },
     "execution_count": 10,
     "metadata": {},
     "output_type": "execute_result"
    }
   ],
   "source": [
    "param_grid = {'n_estimators': np.arange(2, 5, 1),\n",
    "              'criterion':['gini', 'entropy', 'log_loss'],\n",
    "              'max_depth': np.arange(2, 5, 1),\n",
    "              'class_weight': ['balanced', 'balanced_subsample', None]}\n",
    "\n",
    "fixed_hyperparams = {'n_jobs':-1}\n",
    "\n",
    "list_param = list(ParameterGrid(param_grid))\n",
    "# shows 5\n",
    "list_param[0:5]"
   ]
  },
  {
   "cell_type": "code",
   "execution_count": 11,
   "id": "ea3b3e0a",
   "metadata": {
    "scrolled": false
   },
   "outputs": [
    {
     "name": "stderr",
     "output_type": "stream",
     "text": [
      "2022/11/04 08:31:15 INFO mlflow.tracking.fluent: Experiment with name 'Random Forest' does not exist. Creating a new experiment.\n",
      "100%|█████████████████████████████████████████████████| 81/81 [02:43<00:00,  2.01s/it]\n"
     ]
    }
   ],
   "source": [
    "mlflow_grid_search(exp_name='Random Forest',\n",
    "                 preprocessor=preprocessor,\n",
    "                 clf=RandomForestClassifier, \n",
    "                 X_train=X_train, \n",
    "                 y_train=y_train, \n",
    "                 X_test=X_test, \n",
    "                 y_test=y_test, \n",
    "                 param_grid=param_grid, \n",
    "                 fixed_hyperparams=fixed_hyperparams)"
   ]
  },
  {
   "cell_type": "code",
   "execution_count": null,
   "id": "d37d9bff",
   "metadata": {},
   "outputs": [],
   "source": []
  }
 ],
 "metadata": {
  "kernelspec": {
   "display_name": "Python 3 (ipykernel)",
   "language": "python",
   "name": "python3"
  },
  "language_info": {
   "codemirror_mode": {
    "name": "ipython",
    "version": 3
   },
   "file_extension": ".py",
   "mimetype": "text/x-python",
   "name": "python",
   "nbconvert_exporter": "python",
   "pygments_lexer": "ipython3",
   "version": "3.9.7"
  }
 },
 "nbformat": 4,
 "nbformat_minor": 5
}
